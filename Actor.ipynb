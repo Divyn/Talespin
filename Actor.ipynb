{
 "cells": [
  {
   "cell_type": "code",
   "execution_count": null,
   "metadata": {},
   "outputs": [],
   "source": [
    "#persona format honesty,sincerity,strength,speed,group/alone\n",
    "#list of personas?\n",
    "\n",
    "#To do next:\n"
   ]
  },
  {
   "cell_type": "code",
   "execution_count": 7,
   "metadata": {},
   "outputs": [],
   "source": [
    "import pickle\n",
    "def create_persona():\n",
    "    fox={\"dishonest\",\"strong\",\"slow\",\"pack\"}\n",
    "    crow={\"honest\",\"weak\",\"fast\",\"pack\"}\n",
    "    bear={\"honest\",\"strong\",\"slow\",\"alone\"}\n",
    "    deer={\"honest\",\"weak\",\"slow\",\"pack\"}\n",
    "    \n",
    "    persona={}\n",
    "    persona[\"fox\"]=fox\n",
    "    persona[\"crow\"]=crow\n",
    "    persona[\"bear\"]=bear\n",
    "    persona[\"deer\"]=deer\n",
    "\n",
    "    # It is important to use binary mode \n",
    "    dbfile = open('personaPickle', 'ab') \n",
    "\n",
    "    # source, destination \n",
    "    pickle.dump(persona,dbfile)                      \n",
    "    dbfile.close() \n"
   ]
  },
  {
   "cell_type": "code",
   "execution_count": 8,
   "metadata": {},
   "outputs": [],
   "source": [
    "create_persona()"
   ]
  },
  {
   "cell_type": "code",
   "execution_count": 9,
   "metadata": {},
   "outputs": [],
   "source": [
    "def retrieve_persona():\n",
    "    dbfile = open('personaPickle', 'rb')      \n",
    "    db = pickle.load(dbfile) \n",
    "    for keys in db:\n",
    "        print(keys,\"--\",db[keys])\n",
    "    dbfile.close() "
   ]
  },
  {
   "cell_type": "code",
   "execution_count": 10,
   "metadata": {},
   "outputs": [
    {
     "name": "stdout",
     "output_type": "stream",
     "text": [
      "fox -- {'slow', 'pack', 'strong', 'dishonest'}\n",
      "crow -- {'weak', 'pack', 'fast', 'honest'}\n",
      "bear -- {'slow', 'honest', 'alone', 'strong'}\n",
      "deer -- {'weak', 'pack', 'honest', 'slow'}\n"
     ]
    }
   ],
   "source": [
    "retrieve_persona()"
   ]
  },
  {
   "cell_type": "code",
   "execution_count": null,
   "metadata": {},
   "outputs": [],
   "source": [
    "class Persona:\n",
    "    def __init__(self):\n",
    "            self.is_dishonest=False\n",
    "            self.is_sincere=False\n",
    "            self.is_weak=False\n",
    "            self.is_strong=False\n",
    "            self.roams_alone=False\n",
    "            self.roams_pack=False\n",
    "            \n",
    "    def update_persona(self,user_character):\n",
    "        #based on character received from user, use pickle to load defaults\n",
    "                \n",
    "        \n",
    "        "
   ]
  },
  {
   "cell_type": "code",
   "execution_count": null,
   "metadata": {},
   "outputs": [],
   "source": [
    "#inherits persona and sigma state class\n",
    "class Actor:\n",
    "    def __init__(self,persona,ss):\n",
    "        \n",
    "        self.Persona=persona\n",
    "        \n",
    "        self.isNow=\n",
    "        self.isIn=\n",
    "        self.homeIs=\n",
    "        self.Sigma_State=ss\n",
    "        self.ability=\n",
    "        \n",
    "    def update_isNow(self):\n",
    "        self.isNow=\n",
    "        \n",
    "    def update_isIn():\n",
    "        \n",
    "        \n",
    "    \n",
    "    "
   ]
  }
 ],
 "metadata": {
  "kernelspec": {
   "display_name": "Python 3",
   "language": "python",
   "name": "python3"
  },
  "language_info": {
   "codemirror_mode": {
    "name": "ipython",
    "version": 3
   },
   "file_extension": ".py",
   "mimetype": "text/x-python",
   "name": "python",
   "nbconvert_exporter": "python",
   "pygments_lexer": "ipython3",
   "version": "3.6.10"
  }
 },
 "nbformat": 4,
 "nbformat_minor": 2
}
