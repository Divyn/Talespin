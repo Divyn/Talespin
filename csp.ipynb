{
 "cells": [
  {
   "cell_type": "markdown",
   "metadata": {},
   "source": [
    "conda update -n base -c defaults conda"
   ]
  },
  {
   "cell_type": "markdown",
   "metadata": {},
   "source": [
    "conda install -c conda-forge python-constraint "
   ]
  },
  {
   "cell_type": "code",
   "execution_count": 1,
   "metadata": {},
   "outputs": [],
   "source": [
    "from constraint import *"
   ]
  },
  {
   "cell_type": "code",
   "execution_count": 2,
   "metadata": {},
   "outputs": [
    {
     "data": {
      "text/plain": [
       "[{'a': 'hi', 'b': 'hi'}]"
      ]
     },
     "execution_count": 2,
     "metadata": {},
     "output_type": "execute_result"
    }
   ],
   "source": [
    "pr=Problem()\n",
    "pr.addVariable(\"a\",['hi','hello','hifi'])\n",
    "pr.addVariable(\"b\",['hi','byebye','buyed'])\n",
    "pr.addConstraint(AllEqualConstraint())\n",
    "pr.getSolutions()"
   ]
  },
  {
   "cell_type": "markdown",
   "metadata": {},
   "source": [
    "ADDING OWN CONSTRAINTS: FUNCTIONS THAT RETURN T OR F"
   ]
  },
  {
   "cell_type": "code",
   "execution_count": 3,
   "metadata": {},
   "outputs": [],
   "source": [
    "def check(w1,w2):\n",
    "    if (w1>w2):\n",
    "        return False;\n",
    "    else:\n",
    "        return True;"
   ]
  },
  {
   "cell_type": "code",
   "execution_count": 4,
   "metadata": {},
   "outputs": [
    {
     "data": {
      "text/plain": [
       "[{'a': 'hello', 'b': 'hi'}, {'a': 'hi', 'b': 'hi'}]"
      ]
     },
     "execution_count": 4,
     "metadata": {},
     "output_type": "execute_result"
    }
   ],
   "source": [
    "pr=Problem()\n",
    "pr.addVariable(\"a\",['hi','hello','hifi'])\n",
    "pr.addVariable(\"b\",['hi','byebye','buyed'])\n",
    "pr.addConstraint(check,['a','b'])\n",
    "pr.getSolutions()"
   ]
  },
  {
   "cell_type": "markdown",
   "metadata": {},
   "source": [
    "An example of Talespin checking constraints ..... Delta_control(x,y,z) x wants y to control z"
   ]
  },
  {
   "cell_type": "code",
   "execution_count": 5,
   "metadata": {},
   "outputs": [],
   "source": [
    "class beings:\n",
    "    #relationship with others as a dictionary with another being as key and relationship as value\n",
    "    \n",
    "    def __init__(self,value=0):\n",
    "        self.value=value;\n",
    "        self.other=dict()\n",
    "    def relationship(self,q,rel):\n",
    "        self.other[q]=rel;\n",
    "        "
   ]
  },
  {
   "cell_type": "code",
   "execution_count": 6,
   "metadata": {},
   "outputs": [],
   "source": [
    "x=beings('x');\n",
    "y=beings('y');\n",
    "x.relationship(y,\"friend\");\n",
    "y.relationship(x,\"enemy\");\n",
    "z=beings('z');\n",
    "z.relationship(z,\"acquaintance\");"
   ]
  },
  {
   "cell_type": "code",
   "execution_count": 7,
   "metadata": {},
   "outputs": [],
   "source": [
    "def delta_control(y,z):\n",
    "    if(y.other.get(z)==\"enemy\"):\n",
    "        return True;\n",
    "    else:    \n",
    "        return False;"
   ]
  },
  {
   "cell_type": "code",
   "execution_count": 8,
   "metadata": {},
   "outputs": [],
   "source": [
    "rel_pr=Problem()\n",
    "rel_pr.addVariable(\"a\",[y,z])\n",
    "rel_pr.addVariable(\"b\",[z,y,x])\n",
    "rel_pr.addConstraint(delta_control,[\"a\",\"b\"])\n",
    "sols=rel_pr.getSolutions()\n"
   ]
  },
  {
   "cell_type": "code",
   "execution_count": 9,
   "metadata": {},
   "outputs": [
    {
     "name": "stdout",
     "output_type": "stream",
     "text": [
      "index  :0\n",
      "(y,x)"
     ]
    }
   ],
   "source": [
    "for index,solu in enumerate(sols):\n",
    "    print(\"index  :\"+str(index))\n",
    "    print(\"({},{})\".format(solu['a'].value, solu['b'].value), end=\"\")"
   ]
  },
  {
   "cell_type": "markdown",
   "metadata": {},
   "source": [
    "another example for delta functions"
   ]
  },
  {
   "cell_type": "code",
   "execution_count": 10,
   "metadata": {},
   "outputs": [],
   "source": [
    "def tell(x,y,z):\n",
    "    if(y.other.get(z)!= None):\n",
    "        print(str(y.value)+\" already knows \"+str(z.value))\n",
    "    else:\n",
    "        print(\"forming relation between \"+str(y.value)+\" and \"+str(z.value))\n",
    "        "
   ]
  },
  {
   "cell_type": "code",
   "execution_count": 11,
   "metadata": {},
   "outputs": [],
   "source": [
    "q=beings(\"q\")\n",
    "q.relationship(x,\"enemy\")"
   ]
  },
  {
   "cell_type": "code",
   "execution_count": 12,
   "metadata": {},
   "outputs": [
    {
     "name": "stdout",
     "output_type": "stream",
     "text": [
      "q already knows x\n",
      "q already knows x\n",
      "q already knows x\n",
      "forming relation between q and q\n",
      "forming relation between q and q\n",
      "forming relation between q and q\n",
      "forming relation between x and x\n",
      "forming relation between x and x\n",
      "forming relation between x and x\n",
      "forming relation between x and q\n",
      "forming relation between x and q\n",
      "forming relation between x and q\n"
     ]
    }
   ],
   "source": [
    "rel_pr=Problem()\n",
    "rel_pr.addVariable(\"a\",[q,x,z])\n",
    "rel_pr.addVariable(\"b\",[x,q])\n",
    "rel_pr.addVariable(\"c\",[q,x])\n",
    "rel_pr.addConstraint(tell,[\"a\",\"b\",\"c\"])\n",
    "sols=rel_pr.getSolutions()"
   ]
  },
  {
   "cell_type": "code",
   "execution_count": 13,
   "metadata": {},
   "outputs": [
    {
     "data": {
      "text/plain": [
       "'PLANS\\nhave delta functions\\n    each of these have planboxes\\n        planboxes have \\n            pre cond\\n            action\\n            post cond\\n            \\n            \\nlist of delta functions\\n    delta_control()\\n    delta_act()\\n    tell()\\n    delta_know'"
      ]
     },
     "execution_count": 13,
     "metadata": {},
     "output_type": "execute_result"
    }
   ],
   "source": [
    "\"\"\"PLANS\n",
    "have delta functions\n",
    "    each of these have planboxes\n",
    "        planboxes have \n",
    "            pre cond\n",
    "            action\n",
    "            post cond\n",
    "            \n",
    "            \n",
    "list of delta functions\n",
    "    delta_control()\n",
    "    delta_act()\n",
    "    tell()\n",
    "    delta_know\"\"\""
   ]
  },
  {
   "cell_type": "code",
   "execution_count": 14,
   "metadata": {},
   "outputs": [
    {
     "data": {
      "text/plain": [
       "'SIGMA STATES\\nneeds/top level goals\\n\\nlist of SS\\n    Hunger\\n    Thirst\\n    Shelter\\nss\\n    calls plan'"
      ]
     },
     "execution_count": 14,
     "metadata": {},
     "output_type": "execute_result"
    }
   ],
   "source": [
    "\"\"\"SIGMA STATES\n",
    "needs/top level goals\n",
    "\n",
    "list of SS\n",
    "    Hunger\n",
    "    Thirst\n",
    "    Shelter\n",
    "ss\n",
    "    calls plan\"\"\""
   ]
  },
  {
   "cell_type": "code",
   "execution_count": 15,
   "metadata": {},
   "outputs": [
    {
     "data": {
      "text/plain": [
       "'RELATIONSHIPS\\n        used as precond\\n        \\nlist of relationships\\n    is_familiar()\\n    dominates()\\n    is_affectionate()'"
      ]
     },
     "execution_count": 15,
     "metadata": {},
     "output_type": "execute_result"
    }
   ],
   "source": [
    "\"\"\"RELATIONSHIPS\n",
    "        used as precond\n",
    "        \n",
    "list of relationships\n",
    "    is_familiar()\n",
    "    dominates()\n",
    "    is_affectionate()\"\"\""
   ]
  },
  {
   "cell_type": "code",
   "execution_count": 16,
   "metadata": {},
   "outputs": [
    {
     "data": {
      "text/plain": [
       "'PERSONALITIES\\n    used as precond\\n    mildly different from relationships\\n\\nlist of personalities\\n    is_dishonest()\\n    is_sincere()\\n    is_weak()\\n    is_strong() '"
      ]
     },
     "execution_count": 16,
     "metadata": {},
     "output_type": "execute_result"
    }
   ],
   "source": [
    "\"\"\"PERSONALITIES\n",
    "    used as precond\n",
    "    mildly different from relationships\n",
    "\n",
    "list of personalities\n",
    "    is_dishonest()\n",
    "    is_sincere()\n",
    "    is_weak()\n",
    "    is_strong() \"\"\"   "
   ]
  },
  {
   "cell_type": "code",
   "execution_count": 17,
   "metadata": {},
   "outputs": [
    {
     "data": {
      "text/plain": [
       "'MAP\\n    used to find routes\\n    uses blueprints\\n    adjacency\\n    doors\\n    from one surrounding to another use doors\\n    will also be a pre or post condition\\n    for eg: for crow and bird to become friends, they will have to be geographically close \\n    \\n    adjacency can be a function'"
      ]
     },
     "execution_count": 17,
     "metadata": {},
     "output_type": "execute_result"
    }
   ],
   "source": [
    "\"\"\"MAP\n",
    "    used to find routes\n",
    "    uses blueprints\n",
    "    adjacency\n",
    "    doors\n",
    "    from one surrounding to another use doors\n",
    "    will also be a pre or post condition\n",
    "    for eg: for crow and bird to become friends, they will have to be geographically close \n",
    "    \n",
    "    adjacency can be a function\"\"\""
   ]
  },
  {
   "cell_type": "code",
   "execution_count": 18,
   "metadata": {},
   "outputs": [
    {
     "data": {
      "text/plain": [
       "'GOALS\\n    control structure for problem solving\\n    \\n    stack of goals\\n    start with a sigma state\\n    add subgoals\\n    '"
      ]
     },
     "execution_count": 18,
     "metadata": {},
     "output_type": "execute_result"
    }
   ],
   "source": [
    "\"\"\"GOALS\n",
    "    control structure for problem solving\n",
    "    \n",
    "    stack of goals\n",
    "    start with a sigma state\n",
    "    add subgoals\n",
    "    \"\"\""
   ]
  },
  {
   "cell_type": "code",
   "execution_count": 19,
   "metadata": {},
   "outputs": [
    {
     "data": {
      "text/plain": [
       "'\\nprocedure to follow\\n    create a class called goals\\n    allow user to select a sigma state\\n    randomly generate beings with user defined personalites and relationships --from a predefined list of beings\\n    user defines their geographical locations \\n    write flow of plans all sigma states before hand\\n    follow the flow for the user chosen sigma state\\n    \\n    create a class called plans\\n    plans will have all functions\\n    each of these functions will check relationships and personalities\\n    both personalities and relationships will be classes\\n    \\n    there will be a global state which will first push a sigma state\\n    then starts pushing sub goals\\n    remove subgoals as you implement it--- how to implement it?\\n    \\nfirst try this\\ntry to create a story using this\\nsee how it works\\nthen will think about that to do\\n\\n    \\n'"
      ]
     },
     "execution_count": 19,
     "metadata": {},
     "output_type": "execute_result"
    }
   ],
   "source": [
    "\"\"\"\n",
    "procedure to follow\n",
    "    create a class called goals\n",
    "    allow user to select a sigma state\n",
    "    randomly generate beings with user defined personalites and relationships --from a predefined list of beings\n",
    "    user defines their geographical locations \n",
    "    write flow of plans all sigma states before hand\n",
    "    follow the flow for the user chosen sigma state\n",
    "    \n",
    "    create a class called plans\n",
    "    plans will have all functions\n",
    "    each of these functions will check relationships and personalities\n",
    "    both personalities and relationships will be classes\n",
    "    \n",
    "    there will be a global state which will first push a sigma state\n",
    "    then starts pushing sub goals\n",
    "    remove subgoals as you implement it--- how to implement it?\n",
    "    \n",
    "first try this\n",
    "try to create a story using this\n",
    "see how it works\n",
    "then will think about that to do\n",
    "\n",
    "    \n",
    "\"\"\""
   ]
  },
  {
   "cell_type": "code",
   "execution_count": 20,
   "metadata": {},
   "outputs": [
    {
     "data": {
      "text/plain": [
       "'\\nlist of classes\\n    global_stack\\n    goals\\n    sigma state\\n    plans\\n    relationships\\n    personalities\\n    problem---begins the program and uses other classes\\n\\n'"
      ]
     },
     "execution_count": 20,
     "metadata": {},
     "output_type": "execute_result"
    }
   ],
   "source": [
    "\"\"\"\n",
    "list of classes\n",
    "    global_stack\n",
    "    goals\n",
    "    sigma state\n",
    "    plans\n",
    "    relationships\n",
    "    personalities\n",
    "    problem---begins the program and uses other classes\n",
    "\n",
    "\"\"\""
   ]
  },
  {
   "cell_type": "code",
   "execution_count": 21,
   "metadata": {},
   "outputs": [
    {
     "data": {
      "text/plain": [
       "'\\nbut how will the user build the universe?\\nchoose everything from a list?\\nchoose a sigma state and difficulty? ---try this first\\n\\n\\ngroup beings and relationships into difficulty levels\\nuser chooses sigma state and difficulty level\\nprogram builds being and personal, rela from that\\n\\n'"
      ]
     },
     "execution_count": 21,
     "metadata": {},
     "output_type": "execute_result"
    }
   ],
   "source": [
    "\"\"\"\n",
    "but how will the user build the universe?\n",
    "choose everything from a list?\n",
    "choose a sigma state and difficulty? ---try this first\n",
    "\n",
    "\n",
    "group beings and relationships into difficulty levels\n",
    "user chooses sigma state and difficulty level\n",
    "program builds being and personal, rela from that\n",
    "\n",
    "\"\"\""
   ]
  }
 ],
 "metadata": {
  "kernelspec": {
   "display_name": "Python 3",
   "language": "python",
   "name": "python3"
  },
  "language_info": {
   "codemirror_mode": {
    "name": "ipython",
    "version": 3
   },
   "file_extension": ".py",
   "mimetype": "text/x-python",
   "name": "python",
   "nbconvert_exporter": "python",
   "pygments_lexer": "ipython3",
   "version": "3.6.10"
  }
 },
 "nbformat": 4,
 "nbformat_minor": 2
}
