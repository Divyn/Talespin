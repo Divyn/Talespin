{
 "cells": [
  {
   "cell_type": "code",
   "execution_count": 4,
   "metadata": {},
   "outputs": [],
   "source": [
    "import pickle\n",
    "def create_sigma_state():\n",
    "    sigma={\"Hunger\",\"Null\",\"Thirst\",\"Rest\",\"Mating\"}\n",
    "\n",
    "    # Its important to use binary mode \n",
    "    dbfile = open('sigmaPickle', 'ab') \n",
    "\n",
    "    # source, destination \n",
    "    pickle.dump(sigma,dbfile)                      \n",
    "    dbfile.close() \n"
   ]
  },
  {
   "cell_type": "code",
   "execution_count": 9,
   "metadata": {},
   "outputs": [],
   "source": [
    "create_sigma_state()"
   ]
  },
  {
   "cell_type": "code",
   "execution_count": 2,
   "metadata": {},
   "outputs": [],
   "source": [
    "def retrieve_sigma():\n",
    "    dbfile = open('sigmaPickle', 'rb')      \n",
    "    db = pickle.load(dbfile) \n",
    "    for keys in db: \n",
    "        print(keys) \n",
    "    dbfile.close() "
   ]
  },
  {
   "cell_type": "code",
   "execution_count": 5,
   "metadata": {},
   "outputs": [
    {
     "name": "stdout",
     "output_type": "stream",
     "text": [
      "Hunger\n",
      "Thirst\n",
      "Rest\n",
      "Mating\n",
      "Null\n"
     ]
    }
   ],
   "source": [
    "retrieve_sigma()"
   ]
  },
  {
   "cell_type": "code",
   "execution_count": null,
   "metadata": {},
   "outputs": [],
   "source": [
    "class Sigma_State:\n",
    "        #possible values for sigma states:Null, Hunger,Thirst,Rest,Mating    \n",
    "    def __init__(self):\n",
    "        self.value=Null\n",
    "    def update_ss(self,v):\n",
    "        # load sigma states pickle, if user input not in pickle then throw error\n",
    "        \n",
    "        \n",
    "        if v not in \n",
    "            self.value=v;\n",
    "        \n",
    "        \n"
   ]
  }
 ],
 "metadata": {
  "kernelspec": {
   "display_name": "Python 3",
   "language": "python",
   "name": "python3"
  },
  "language_info": {
   "codemirror_mode": {
    "name": "ipython",
    "version": 3
   },
   "file_extension": ".py",
   "mimetype": "text/x-python",
   "name": "python",
   "nbconvert_exporter": "python",
   "pygments_lexer": "ipython3",
   "version": "3.6.10"
  }
 },
 "nbformat": 4,
 "nbformat_minor": 2
}
