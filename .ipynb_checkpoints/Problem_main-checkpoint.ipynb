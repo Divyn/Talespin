{
 "cells": [
  {
   "cell_type": "code",
   "execution_count": 1,
   "metadata": {},
   "outputs": [
    {
     "ename": "SyntaxError",
     "evalue": "unexpected EOF while parsing (<ipython-input-1-37f2db8945ca>, line 8)",
     "output_type": "error",
     "traceback": [
      "\u001b[0;36m  File \u001b[0;32m\"<ipython-input-1-37f2db8945ca>\"\u001b[0;36m, line \u001b[0;32m8\u001b[0m\n\u001b[0;31m    \u001b[0m\n\u001b[0m    ^\u001b[0m\n\u001b[0;31mSyntaxError\u001b[0m\u001b[0;31m:\u001b[0m unexpected EOF while parsing\n"
     ]
    }
   ],
   "source": [
    "class problem:\n",
    "    sigma_state=\"happy\"\n",
    "    difficulty_level=\"easy\"\n",
    "    def __init__(self,char,state,diff_level):\n",
    "        self.sigma_state=state\n",
    "        self.difficulty_level=diff_level\n",
    "        \n",
    "        \n",
    "    def build_stack(sigma_state):\n",
    "        #stack =[]\n",
    "        #stack.append()\n",
    "        #stack.pop()\n",
    "        s = Stack()\n",
    "        s.push(sigma_state)\n",
    "        solve_problem(s)\n",
    "        \n",
    "    def solve_problem(STACk):\n",
    "        "
   ]
  },
  {
   "cell_type": "code",
   "execution_count": null,
   "metadata": {},
   "outputs": [],
   "source": [
    "user_character=input()\n",
    "user_sigma_state= input()\n",
    "user_difficulty_level=input()\n",
    "P=problem(user_character,user_sigma_state,user_difficulty_level)\n"
   ]
  }
 ],
 "metadata": {
  "kernelspec": {
   "display_name": "Python 3",
   "language": "python",
   "name": "python3"
  },
  "language_info": {
   "codemirror_mode": {
    "name": "ipython",
    "version": 3
   },
   "file_extension": ".py",
   "mimetype": "text/x-python",
   "name": "python",
   "nbconvert_exporter": "python",
   "pygments_lexer": "ipython3",
   "version": "3.6.10"
  }
 },
 "nbformat": 4,
 "nbformat_minor": 2
}
